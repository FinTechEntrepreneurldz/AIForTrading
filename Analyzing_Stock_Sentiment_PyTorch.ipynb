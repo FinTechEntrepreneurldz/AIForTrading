{
 "cells": [
  {
   "cell_type": "markdown",
   "metadata": {},
   "source": [
    "# Project 6: Analyzing Stock Sentiment from Twits\n",
    "## Instructions\n",
    "Each problem consists of a function to implement and instructions on how to implement the function.  The parts of the function that need to be implemented are marked with a `# TODO` comment.\n",
    "\n",
    "## Packages\n",
    "When you implement the functions, you'll only need to you use the packages you've used in the classroom, like [Pandas](https://pandas.pydata.org/) and [Numpy](http://www.numpy.org/). These packages will be imported for you. We recommend you don't add any import statements, otherwise the grader might not be able to run your code.\n",
    "\n",
    "### Load Packages"
   ]
  },
  {
   "cell_type": "code",
   "execution_count": 1,
   "metadata": {},
   "outputs": [],
   "source": [
    "import json\n",
    "import nltk\n",
    "import os\n",
    "import random\n",
    "import re\n",
    "import torch\n",
    "\n",
    "from torch import nn, optim\n",
    "import torch.nn.functional as F"
   ]
  },
  {
   "cell_type": "markdown",
   "metadata": {},
   "source": [
    "## Introduction\n",
    "When deciding the value of a company, it's important to follow the news. For example, a product recall or natural disaster in a company's product chain. You want to be able to turn this information into a signal. Currently, the best tool for the job is a Neural Network. \n",
    "\n",
    "For this project, you'll use posts from the social media site [StockTwits](https://en.wikipedia.org/wiki/StockTwits). The community on StockTwits is full of investors, traders, and entrepreneurs. Each message posted is called a Twit. This is similar to Twitter's version of a post, called a Tweet. You'll build a model around these twits that generate a sentiment score.\n",
    "\n",
    "We've collected a bunch of twits, then hand labeled the sentiment of each. To capture the degree of sentiment, we'll use a five-point scale: very negative, negative, neutral, positive, very positive. Each twit is labeled -2 to 2 in steps of 1, from very negative to very positive respectively. You'll build a sentiment analysis model that will learn to assign sentiment to twits on its own, using this labeled data.\n",
    "\n",
    "The first thing we should to do, is load the data.\n",
    "\n",
    "## Import Twits \n",
    "### Load Twits Data \n",
    "This JSON file contains a list of objects for each twit in the `'data'` field:\n",
    "\n",
    "```\n",
    "{'data':\n",
    "  {'message_body': 'Neutral twit body text here',\n",
    "   'sentiment': 0},\n",
    "  {'message_body': 'Happy twit body text here',\n",
    "   'sentiment': 1},\n",
    "   ...\n",
    "}\n",
    "```\n",
    "\n",
    "The fields represent the following:\n",
    "\n",
    "* `'message_body'`: The text of the twit.\n",
    "* `'sentiment'`: Sentiment score for the twit, ranges from -2 to 2 in steps of 1, with 0 being neutral.\n",
    "\n",
    "\n",
    "To see what the data look like by printing the first 10 twits from the list. "
   ]
  },
  {
   "cell_type": "code",
   "execution_count": 2,
   "metadata": {},
   "outputs": [
    {
     "name": "stdout",
     "output_type": "stream",
     "text": [
      "[{'message_body': '$FITB great buy at 26.00...ill wait', 'sentiment': 2, 'timestamp': '2018-07-01T00:00:09Z'}, {'message_body': '@StockTwits $MSFT', 'sentiment': 1, 'timestamp': '2018-07-01T00:00:42Z'}, {'message_body': '#STAAnalystAlert for $TDG : Jefferies Maintains with a rating of Hold setting target price at USD 350.00. Our own verdict is Buy  http://www.stocktargetadvisor.com/toprating', 'sentiment': 2, 'timestamp': '2018-07-01T00:01:24Z'}, {'message_body': '$AMD I heard there’s a guy who knows someone who thinks somebody knows something - on StockTwits.', 'sentiment': 1, 'timestamp': '2018-07-01T00:01:47Z'}, {'message_body': '$AMD reveal yourself!', 'sentiment': 0, 'timestamp': '2018-07-01T00:02:13Z'}, {'message_body': '$AAPL Why the drop? I warren Buffet taking out his position?', 'sentiment': 1, 'timestamp': '2018-07-01T00:03:10Z'}, {'message_body': '$BA bears have 1 reason on 06-29 to pay more attention https://dividendbot.com?s=BA', 'sentiment': -2, 'timestamp': '2018-07-01T00:04:09Z'}, {'message_body': '$BAC ok good we&#39;re not dropping in price over the weekend, lol', 'sentiment': 1, 'timestamp': '2018-07-01T00:04:17Z'}, {'message_body': '$AMAT - Daily Chart, we need to get back to above 50.', 'sentiment': 2, 'timestamp': '2018-07-01T00:08:01Z'}, {'message_body': '$GME 3% drop per week after spike... if no news in 3 months, back to 12s... if BO, then bingo... what is the odds?', 'sentiment': -2, 'timestamp': '2018-07-01T00:09:03Z'}]\n"
     ]
    }
   ],
   "source": [
    "with open(os.path.join('..', '..', 'data', 'project_6_stocktwits', 'twits.json'), 'r') as f:\n",
    "    twits = json.load(f)\n",
    "\n",
    "print(twits['data'][:10])"
   ]
  },
  {
   "cell_type": "markdown",
   "metadata": {},
   "source": [
    "### Length of Data\n",
    "Now let's look at the number of twits in dataset. Print the number of twits below."
   ]
  },
  {
   "cell_type": "code",
   "execution_count": 3,
   "metadata": {},
   "outputs": [
    {
     "name": "stdout",
     "output_type": "stream",
     "text": [
      "1548010\n"
     ]
    }
   ],
   "source": [
    "\"\"\"print out the number of twits\"\"\"\n",
    "\n",
    "# TODO Implement \n",
    "print(len(twits['data']))"
   ]
  },
  {
   "cell_type": "markdown",
   "metadata": {},
   "source": [
    "### Split Message Body and Sentiment Score"
   ]
  },
  {
   "cell_type": "code",
   "execution_count": 4,
   "metadata": {},
   "outputs": [],
   "source": [
    "messages = [twit['message_body'] for twit in twits['data']]\n",
    "# Since the sentiment scores are discrete, we'll scale the sentiments to 0 to 4 for use in our network\n",
    "sentiments = [twit['sentiment'] + 2 for twit in twits['data']]"
   ]
  },
  {
   "cell_type": "markdown",
   "metadata": {},
   "source": [
    "## Preprocessing the Data\n",
    "With our data in hand we need to preprocess our text. These twits are collected by filtering on ticker symbols where these are denoted with a leader $ symbol in the twit itself. For example,\n",
    "\n",
    "`{'message_body': 'RT @google Our annual look at the year in Google blogging (and beyond) http://t.co/sptHOAh8 $GOOG',\n",
    " 'sentiment': 0}`\n",
    "\n",
    "The ticker symbols don't provide information on the sentiment, and they are in every twit, so we should remove them. This twit also has the `@google` username, again not providing sentiment information, so we should also remove it. We also see a URL `http://t.co/sptHOAh8`. Let's remove these too.\n",
    "\n",
    "The easiest way to remove specific words or phrases is with regex using the `re` module. You can sub out specific patterns with a space:\n",
    "\n",
    "```python\n",
    "re.sub(pattern, ' ', text)\n",
    "```\n",
    "This will substitute a space with anywhere the pattern matches in the text. Later when we tokenize the text, we'll split appropriately on those spaces."
   ]
  },
  {
   "cell_type": "markdown",
   "metadata": {},
   "source": [
    "### Pre-Processing"
   ]
  },
  {
   "cell_type": "code",
   "execution_count": 5,
   "metadata": {},
   "outputs": [
    {
     "name": "stderr",
     "output_type": "stream",
     "text": [
      "[nltk_data] Downloading package wordnet to /home/student/nltk_data...\n"
     ]
    }
   ],
   "source": [
    "nltk.download('wordnet')\n",
    "\n",
    "\n",
    "def preprocess(message):\n",
    "    \"\"\"\n",
    "    This function takes a string as input, then performs these operations: \n",
    "        - lowercase\n",
    "        - remove URLs\n",
    "        - remove ticker symbols \n",
    "        - removes punctuation\n",
    "        - tokenize by splitting the string on whitespace \n",
    "        - removes any single character tokens\n",
    "    \n",
    "    Parameters\n",
    "    ----------\n",
    "        message : The text message to be preprocessed.\n",
    "        \n",
    "    Returns\n",
    "    -------\n",
    "        tokens: The preprocessed text into tokens.\n",
    "    \"\"\" \n",
    "    #TODO: Implement \n",
    "    \n",
    "    # Lowercase the twit message\n",
    "    text = message.lower()\n",
    "    \n",
    "    # Replace URLs with a space in the message\n",
    "    text = re.sub('http[s]?://(?:[a-zA-Z]|[0-9]|[$-_@.&+]|[!*\\\\(\\\\),]|(?:%[0-9a-fA-F][0-9a-fA-F]))+', ' ', text)\n",
    "    \n",
    "    # Replace ticker symbols with a space. The ticker symbols are any stock symbol that starts with $.\n",
    "    text = re.sub('\\$\\w+', ' ', text)\n",
    "    \n",
    "    # Replace StockTwits usernames with a space. The usernames are any word that starts with @.\n",
    "    text = re.sub('@\\w+', ' ', text)\n",
    "\n",
    "    # Replace everything not a letter with a space\n",
    "    text = re.sub('[^a-zA-Z]', ' ', text)\n",
    "    \n",
    "    # Tokenize by splitting the string on whitespace into a list of words\n",
    "    tokens =  text.split()\n",
    "\n",
    "    # Lemmatize words using the WordNetLemmatizer. You can ignore any word that is not longer than one character.\n",
    "    wnl = nltk.stem.WordNetLemmatizer()\n",
    "    tokens = [wnl.lemmatize(word) for word in tokens if len(word) > 1]\n",
    "\n",
    "    \n",
    "    assert type(tokens) == list, 'Tokens should be list'\n",
    "    return tokens"
   ]
  },
  {
   "cell_type": "markdown",
   "metadata": {},
   "source": [
    ">Note: You must ensure that after preprocessing the text should NOT include:\n",
    "- Numbers\n",
    "- URLs\n",
    "- Single character tokens\n",
    "- Ticker symbols (these should be removed even if they don't appear at the beginning)"
   ]
  },
  {
   "cell_type": "markdown",
   "metadata": {},
   "source": [
    "### Preprocess All the Twits \n",
    "Now we can preprocess each of the twits in our dataset. Apply the function `preprocess` to all the twit messages."
   ]
  },
  {
   "cell_type": "code",
   "execution_count": 6,
   "metadata": {},
   "outputs": [],
   "source": [
    "# TODO Implement\n",
    "\n",
    "tokenized = [preprocess(text) for text in messages]"
   ]
  },
  {
   "cell_type": "code",
   "execution_count": 7,
   "metadata": {},
   "outputs": [
    {
     "name": "stdout",
     "output_type": "stream",
     "text": [
      "[['great', 'buy', 'at', 'ill', 'wait'], [], ['staanalystalert', 'for', 'jefferies', 'maintains', 'with', 'rating', 'of', 'hold', 'setting', 'target', 'price', 'at', 'usd', 'our', 'own', 'verdict', 'is', 'buy'], ['heard', 'there', 'guy', 'who', 'know', 'someone', 'who', 'think', 'somebody', 'know', 'something', 'on', 'stocktwits'], ['reveal', 'yourself'], ['why', 'the', 'drop', 'warren', 'buffet', 'taking', 'out', 'his', 'position'], ['bear', 'have', 'reason', 'on', 'to', 'pay', 'more', 'attention'], ['ok', 'good', 'we', 're', 'not', 'dropping', 'in', 'price', 'over', 'the', 'weekend', 'lol'], ['daily', 'chart', 'we', 'need', 'to', 'get', 'back', 'to', 'above'], ['drop', 'per', 'week', 'after', 'spike', 'if', 'no', 'news', 'in', 'month', 'back', 'to', 'if', 'bo', 'then', 'bingo', 'what', 'is', 'the', 'odds']]\n"
     ]
    }
   ],
   "source": [
    "print(tokenized[:10])"
   ]
  },
  {
   "cell_type": "markdown",
   "metadata": {},
   "source": [
    "### Bag of Words\n",
    "Now with all of our messages tokenized, we want to create a vocabulary and count up how often each word appears in our entire corpus. Use the [`Counter`](https://docs.python.org/3.1/library/collections.html#collections.Counter) function to count up all the tokens."
   ]
  },
  {
   "cell_type": "code",
   "execution_count": 8,
   "metadata": {},
   "outputs": [],
   "source": [
    "from collections import Counter\n",
    "\n",
    "\n",
    "\"\"\"\n",
    "Create a vocabulary by using Bag of words\n",
    "\"\"\"\n",
    "\n",
    "# TODO: Implement \n",
    "# Flatten the list of lists into a single list of tokens\n",
    "all_tokens = [token for sublist in tokenized for token in sublist]\n",
    "\n",
    "# Use Counter to count the occurrences of each token\n",
    "vocabulary_counter = Counter(all_tokens)\n",
    "\n",
    "# Convert the Counter object to a dictionary\n",
    "bow = dict(vocabulary_counter)"
   ]
  },
  {
   "cell_type": "code",
   "execution_count": 9,
   "metadata": {},
   "outputs": [
    {
     "name": "stdout",
     "output_type": "stream",
     "text": [
      "great: 17570\n",
      "buy: 76330\n",
      "at: 138468\n",
      "ill: 883\n",
      "wait: 11370\n"
     ]
    }
   ],
   "source": [
    "# Print the first few key-value pairs in the dictionary\n",
    "num_pairs_to_print = 5\n",
    "for i, (word, count) in enumerate(bow.items()):\n",
    "    if i >= num_pairs_to_print:\n",
    "        break\n",
    "    print(f\"{word}: {count}\")"
   ]
  },
  {
   "cell_type": "markdown",
   "metadata": {},
   "source": [
    "### Frequency of Words Appearing in Message\n",
    "With our vocabulary, now we'll remove some of the most common words such as 'the', 'and', 'it', etc. These words don't contribute to identifying sentiment and are really common, resulting in a lot of noise in our input. If we can filter these out, then our network should have an easier time learning.\n",
    "\n",
    "We also want to remove really rare words that show up in a only a few twits. Here you'll want to divide the count of each word by the **number of messages** calculated in the code block above (i.e. `len(messages))`. Then remove words that only appear in some small fraction of the messages.\n",
    "\n",
    ">Note: There is not an exact number for low and high-frequency cut-offs, however there is a correct optimal range.\n",
    "You should ideally set up low-frequency cut-off from 0.0000002 to 0.000007 (inclusive) and high-frequency from 5 to 20 (inclusive). If the number is too big, we lose lots of important words that we can use in our data."
   ]
  },
  {
   "cell_type": "code",
   "execution_count": 10,
   "metadata": {
    "scrolled": true
   },
   "outputs": [
    {
     "name": "stdout",
     "output_type": "stream",
     "text": [
      "[('the', 398818), ('to', 379523), ('is', 284890), ('for', 273549), ('on', 241676), ('of', 211341), ('and', 208513), ('in', 205330), ('this', 203574), ('it', 193548), ('at', 138468), ('will', 128206), ('up', 121578), ('are', 101444), ('you', 94325)]\n"
     ]
    },
    {
     "data": {
      "text/plain": [
       "99320"
      ]
     },
     "execution_count": 10,
     "metadata": {},
     "output_type": "execute_result"
    }
   ],
   "source": [
    "\"\"\"\n",
    "Set the following variables:\n",
    "    freqs\n",
    "    low_cutoff\n",
    "    high_cutoff\n",
    "    K_most_common\n",
    "\"\"\"\n",
    "\n",
    "# TODO Implement \n",
    "\n",
    "# Dictionart that contains the Frequency of words appearing in messages.\n",
    "# The key is the token and the value is the frequency of that word in the corpus.\n",
    "freqs = {word: count / len(messages) for word, count in bow.items()}\n",
    "\n",
    "# Float that is the frequency cutoff. Drop words with a frequency that is lower or equal to this number.\n",
    "low_cutoff = 0.0000005 \n",
    "\n",
    "# Integer that is the cut off for most common words. Drop words that are the `high_cutoff` most common words.\n",
    "high_cutoff = 15\n",
    "\n",
    "# The k most common words in the corpus. Use `high_cutoff` as the k.\n",
    "K_most_common = sorted(bow.items(), key=lambda item: item[1], reverse=True)[:high_cutoff]\n",
    "\n",
    "\n",
    "filtered_words = [word for word in freqs if (freqs[word] > low_cutoff and word not in K_most_common)]\n",
    "print(K_most_common)\n",
    "len(filtered_words) "
   ]
  },
  {
   "cell_type": "markdown",
   "metadata": {},
   "source": [
    "### Updating Vocabulary by Removing Filtered Words\n",
    "Let's creat three variables that will help with our vocabulary."
   ]
  },
  {
   "cell_type": "code",
   "execution_count": 11,
   "metadata": {},
   "outputs": [],
   "source": [
    "\"\"\"\n",
    "Set the following variables:\n",
    "    vocab\n",
    "    id2vocab\n",
    "    filtered\n",
    "\"\"\"\n",
    "\n",
    "#TODO Implement\n",
    "\n",
    "# A dictionary for the `filtered_words`. The key is the word and value is an id that represents the word. \n",
    "vocab = {word: idx for idx, word in enumerate(filtered_words)}\n",
    "# Reverse of the `vocab` dictionary. The key is word id and value is the word. \n",
    "id2vocab = {idx: word for idx, word in enumerate(filtered_words)}\n",
    "# tokenized with the words not in `filtered_words` removed.\n",
    "filtered = [[token for token in message if token in vocab] for message in tokenized]\n",
    "\n",
    "assert set(vocab.keys()) == set(id2vocab.values()), 'Check vocab and id2vocab dictionaries'"
   ]
  },
  {
   "cell_type": "markdown",
   "metadata": {},
   "source": [
    "### Balancing the classes\n",
    "Let's do a few last pre-processing steps. If we look at how our twits are labeled, we'll find that 50% of them are neutral. This means that our network will be 50% accurate just by guessing 0 every single time. To help our network learn appropriately, we'll want to balance our classes.\n",
    "That is, make sure each of our different sentiment scores show up roughly as frequently in the data.\n",
    "\n",
    "What we can do here is go through each of our examples and randomly drop twits with neutral sentiment. What should be the probability we drop these twits if we want to get around 20% neutral twits starting at 50% neutral? We should also take this opportunity to remove messages with length 0."
   ]
  },
  {
   "cell_type": "code",
   "execution_count": 12,
   "metadata": {},
   "outputs": [],
   "source": [
    "balanced = {'messages': [], 'sentiments':[]}\n",
    "\n",
    "n_neutral = sum(1 for each in sentiments if each == 2)\n",
    "N_examples = len(sentiments)\n",
    "keep_prob = (N_examples - n_neutral)/4/n_neutral\n",
    "\n",
    "for idx, sentiment in enumerate(sentiments):\n",
    "    message = filtered[idx]\n",
    "    if len(message) == 0:\n",
    "        # skip this message because it has length zero\n",
    "        continue\n",
    "    elif sentiment != 2 or random.random() < keep_prob:\n",
    "        balanced['messages'].append(message)\n",
    "        balanced['sentiments'].append(sentiment) "
   ]
  },
  {
   "cell_type": "markdown",
   "metadata": {},
   "source": [
    "If you did it correctly, you should see the following result "
   ]
  },
  {
   "cell_type": "code",
   "execution_count": 13,
   "metadata": {},
   "outputs": [
    {
     "data": {
      "text/plain": [
       "0.195507122818664"
      ]
     },
     "execution_count": 13,
     "metadata": {},
     "output_type": "execute_result"
    }
   ],
   "source": [
    "n_neutral = sum(1 for each in balanced['sentiments'] if each == 2)\n",
    "N_examples = len(balanced['sentiments'])\n",
    "n_neutral/N_examples"
   ]
  },
  {
   "cell_type": "markdown",
   "metadata": {},
   "source": [
    "Finally let's convert our tokens into integer ids which we can pass to the network."
   ]
  },
  {
   "cell_type": "code",
   "execution_count": 14,
   "metadata": {},
   "outputs": [],
   "source": [
    "token_ids = [[vocab[word] for word in message] for message in balanced['messages']]\n",
    "sentiments = balanced['sentiments']"
   ]
  },
  {
   "cell_type": "markdown",
   "metadata": {},
   "source": [
    "## Neural Network\n",
    "Now we have our vocabulary which means we can transform our tokens into ids, which are then passed to our network. So, let's define the network now!\n",
    "\n",
    "Here is a nice diagram showing the network we'd like to build: \n",
    "\n",
    "#### Embed -> RNN -> Dense -> Softmax\n",
    "### Implement the text classifier\n",
    "Before we build text classifier, if you remember from the other network that you built in  \"Sentiment Analysis with an RNN\"  exercise  - which there, the network called \" SentimentRNN\", here we named it \"TextClassifer\" - consists of three main parts: 1) init function `__init__` 2) forward pass `forward`  3) hidden state `init_hidden`. \n",
    "\n",
    "This network is pretty similar to the network you built expect in the  `forward` pass, we use softmax instead of sigmoid. The reason we are not using sigmoid is that the output of NN is not a binary. In our network, sentiment scores have 5 possible outcomes. We are looking for an outcome with the highest probability thus softmax is a better choice."
   ]
  },
  {
   "cell_type": "code",
   "execution_count": 15,
   "metadata": {},
   "outputs": [
    {
     "name": "stdout",
     "output_type": "stream",
     "text": [
      "Training on GPU.\n"
     ]
    }
   ],
   "source": [
    "# First checking if GPU is available\n",
    "train_on_gpu=torch.cuda.is_available()\n",
    "\n",
    "if(train_on_gpu):\n",
    "    print('Training on GPU.')\n",
    "else:\n",
    "    print('No GPU available, training on CPU.')"
   ]
  },
  {
   "cell_type": "code",
   "execution_count": 16,
   "metadata": {},
   "outputs": [],
   "source": [
    "class TextClassifier(nn.Module):\n",
    "    def __init__(self, vocab_size, embed_size, lstm_size, output_size, lstm_layers=1, dropout=0.1):\n",
    "        \"\"\"\n",
    "        Initialize the model by setting up the layers.\n",
    "        \n",
    "        Parameters\n",
    "        ----------\n",
    "            vocab_size : The vocabulary size.\n",
    "            embed_size : The embedding layer size.\n",
    "            lstm_size : The LSTM layer size.\n",
    "            output_size : The output size.\n",
    "            lstm_layers : The number of LSTM layers.\n",
    "            dropout : The dropout probability.\n",
    "        \"\"\"\n",
    "        \n",
    "        super().__init__()\n",
    "        self.vocab_size = vocab_size\n",
    "        self.embed_size = embed_size\n",
    "        self.lstm_size = lstm_size\n",
    "        self.output_size = output_size\n",
    "        self.lstm_layers = lstm_layers\n",
    "        self.dropout = dropout\n",
    "        \n",
    "        # TODO Implement\n",
    "\n",
    "        # Setup embedding layer\n",
    "        self.embedding = nn.Embedding(vocab_size, embed_size)\n",
    "        \n",
    "        # Setup additional layers\n",
    "        # LSTM layers\n",
    "        self.lstm = nn.LSTM(embed_size, lstm_size, lstm_layers, \n",
    "                            dropout=dropout, batch_first=False)\n",
    "        \n",
    "        # dropout layer\n",
    "        self.dropout = nn.Dropout(dropout)\n",
    "        \n",
    "        # linear and sigmoid layers\n",
    "        self.fc = nn.Linear(lstm_size, output_size)\n",
    "        self.log_softmax = nn.LogSoftmax(dim=1)\n",
    "        \n",
    "\n",
    "\n",
    "    def init_hidden(self, batch_size):\n",
    "        \"\"\" \n",
    "        Initializes hidden state\n",
    "        \n",
    "        Parameters\n",
    "        ----------\n",
    "            batch_size : The size of batches.\n",
    "        \n",
    "        Returns\n",
    "        -------\n",
    "            hidden_state\n",
    "            \n",
    "        \"\"\"\n",
    "        \n",
    "        # TODO Implement \n",
    "        \n",
    "        # Create two new tensors with sizes n_layers x batch_size x hidden_dim,\n",
    "        # initialized to zero, for hidden state and cell state of LSTM\n",
    "        weight = next(self.parameters()).data\n",
    "        \n",
    "        return (weight.new(self.lstm_layers, batch_size, self.lstm_size).zero_(),\n",
    "                weight.new(self.lstm_layers, batch_size, self.lstm_size).zero_())\n",
    "\n",
    "\n",
    "    def forward(self, nn_input, hidden_state):\n",
    "        \"\"\"\n",
    "        Perform a forward pass of our model on nn_input.\n",
    "        \n",
    "        Parameters\n",
    "        ----------\n",
    "            nn_input : The batch of input to the NN.\n",
    "            hidden_state : The LSTM hidden state.\n",
    "\n",
    "        Returns\n",
    "        -------\n",
    "            logps: log softmax output\n",
    "            hidden_state: The new hidden state.\n",
    "\n",
    "        \"\"\"\n",
    "        \n",
    "        # TODO Implement \n",
    "        \n",
    "        embed = self.embedding(nn_input)\n",
    "        lstm_out, hidden = self.lstm(embed, hidden_state)\n",
    "        lstm_out = lstm_out[-1, :, :]\n",
    "        out = self.dropout(self.fc(lstm_out))\n",
    "        logps = F.log_softmax(out, dim=1)\n",
    "        return logps, hidden"
   ]
  },
  {
   "cell_type": "markdown",
   "metadata": {},
   "source": [
    "### View Model"
   ]
  },
  {
   "cell_type": "code",
   "execution_count": 17,
   "metadata": {},
   "outputs": [
    {
     "name": "stdout",
     "output_type": "stream",
     "text": [
      "tensor([[-1.9626, -1.7066, -1.7312, -1.5310, -1.2566],\n",
      "        [-1.9484, -1.7206, -1.7303, -1.5321, -1.2544],\n",
      "        [-1.9565, -1.7239, -1.7358, -1.5023, -1.2679],\n",
      "        [-1.9497, -1.7177, -1.7142, -1.5169, -1.2776]],\n",
      "       grad_fn=<LogSoftmaxBackward0>)\n"
     ]
    }
   ],
   "source": [
    "model = TextClassifier(len(vocab), 10, 6, 5, dropout=0.1, lstm_layers=2)\n",
    "model.embedding.weight.data.uniform_(-1, 1)\n",
    "input = torch.randint(0, 1000, (5, 4), dtype=torch.int64)\n",
    "hidden = model.init_hidden(4)\n",
    "\n",
    "logps, _ = model.forward(input, hidden)\n",
    "print(logps)"
   ]
  },
  {
   "cell_type": "markdown",
   "metadata": {},
   "source": [
    "## Training\n",
    "### DataLoaders and Batching\n",
    "Now we should build a generator that we can use to loop through our data. It'll be more efficient if we can pass our sequences in as batches. Our input tensors should look like `(sequence_length, batch_size)`. So if our sequences are 40 tokens long and we pass in 25 sequences, then we'd have an input size of `(40, 25)`.\n",
    "\n",
    "If we set our sequence length to 40, what do we do with messages that are more or less than 40 tokens? For messages with fewer than 40 tokens, we will pad the empty spots with zeros. We should be sure to **left** pad so that the RNN starts from nothing before going through the data. If the message has 20 tokens, then the first 20 spots of our 40 long sequence will be 0. If a message has more than 40 tokens, we'll just keep the first 40 tokens."
   ]
  },
  {
   "cell_type": "code",
   "execution_count": 18,
   "metadata": {},
   "outputs": [],
   "source": [
    "def dataloader(messages, labels, sequence_length=30, batch_size=32, shuffle=False):\n",
    "    \"\"\" \n",
    "    Build a dataloader.\n",
    "    \"\"\"\n",
    "    if shuffle:\n",
    "        indices = list(range(len(messages)))\n",
    "        random.shuffle(indices)\n",
    "        messages = [messages[idx] for idx in indices]\n",
    "        labels = [labels[idx] for idx in indices]\n",
    "\n",
    "    total_sequences = len(messages)\n",
    "\n",
    "    for ii in range(0, total_sequences, batch_size):\n",
    "        batch_messages = messages[ii: ii+batch_size]\n",
    "        \n",
    "        # First initialize a tensor of all zeros\n",
    "        batch = torch.zeros((sequence_length, len(batch_messages)), dtype=torch.int64)\n",
    "        for batch_num, tokens in enumerate(batch_messages):\n",
    "            token_tensor = torch.tensor(tokens)\n",
    "            # Left pad!\n",
    "            start_idx = max(sequence_length - len(token_tensor), 0)\n",
    "            batch[start_idx:, batch_num] = token_tensor[:sequence_length]\n",
    "        \n",
    "        label_tensor = torch.tensor(labels[ii: ii+len(batch_messages)])\n",
    "        \n",
    "        yield batch, label_tensor"
   ]
  },
  {
   "cell_type": "markdown",
   "metadata": {},
   "source": [
    "### Training and  Validation\n",
    "With our data in nice shape, we'll split it into training and validation sets."
   ]
  },
  {
   "cell_type": "code",
   "execution_count": 19,
   "metadata": {},
   "outputs": [],
   "source": [
    "\"\"\"\n",
    "Split data into training and validation datasets. Use an appropriate split size.\n",
    "The features are the `token_ids` and the labels are the `sentiments`.\n",
    "\"\"\" \n",
    "\n",
    "# TODO Implement \n",
    "split_frac = 0.8\n",
    "split_idx = int(len(token_ids)*split_frac)\n",
    "\n",
    "\n",
    "split_idx = int(len(token_ids)*split_frac)\n",
    "train_features, valid_features = token_ids[:split_idx], token_ids[split_idx:]\n",
    "train_labels, valid_labels = sentiments[:split_idx], sentiments[split_idx:]"
   ]
  },
  {
   "cell_type": "code",
   "execution_count": 20,
   "metadata": {},
   "outputs": [],
   "source": [
    "text_batch, labels = next(iter(dataloader(train_features, train_labels, sequence_length=20, batch_size=64)))\n",
    "model = TextClassifier(len(vocab)+1, 200, 128, 5, dropout=0.)\n",
    "hidden = model.init_hidden(64)\n",
    "logps, hidden = model.forward(text_batch, hidden)"
   ]
  },
  {
   "cell_type": "markdown",
   "metadata": {},
   "source": [
    "### Training\n",
    "It's time to train the neural network!"
   ]
  },
  {
   "cell_type": "code",
   "execution_count": 21,
   "metadata": {},
   "outputs": [
    {
     "data": {
      "text/plain": [
       "TextClassifier(\n",
       "  (embedding): Embedding(99321, 1024)\n",
       "  (lstm): LSTM(1024, 512, num_layers=2, dropout=0.2)\n",
       "  (dropout): Dropout(p=0.2, inplace=False)\n",
       "  (fc): Linear(in_features=512, out_features=5, bias=True)\n",
       "  (log_softmax): LogSoftmax(dim=1)\n",
       ")"
      ]
     },
     "execution_count": 21,
     "metadata": {},
     "output_type": "execute_result"
    }
   ],
   "source": [
    "device = torch.device(\"cuda\" if torch.cuda.is_available() else \"cpu\")\n",
    "\n",
    "model = TextClassifier(len(vocab)+1, 1024, 512, 5, lstm_layers=2, dropout=0.2)\n",
    "model.embedding.weight.data.uniform_(-1, 1)\n",
    "model.to(device)"
   ]
  },
  {
   "cell_type": "code",
   "execution_count": 22,
   "metadata": {
    "scrolled": false
   },
   "outputs": [
    {
     "name": "stdout",
     "output_type": "stream",
     "text": [
      "Starting epoch 1\n",
      "Epoch: 1/3  Step: 100  Loss: 1.2209  Val Loss: 1.1060 Val Accuracy: 113646/206674 = 54.99%\n",
      "Epoch: 1/3  Step: 200  Loss: 1.0983  Val Loss: 1.0004 Val Accuracy: 124206/206674 = 60.10%\n",
      "Epoch: 1/3  Step: 300  Loss: 1.0708  Val Loss: 0.9334 Val Accuracy: 130724/206674 = 63.25%\n",
      "Epoch: 1/3  Step: 400  Loss: 0.9923  Val Loss: 0.8949 Val Accuracy: 133615/206674 = 64.65%\n",
      "Epoch: 1/3  Step: 500  Loss: 0.9687  Val Loss: 0.8607 Val Accuracy: 137016/206674 = 66.30%\n",
      "Epoch: 1/3  Step: 600  Loss: 0.9837  Val Loss: 0.8329 Val Accuracy: 140112/206674 = 67.79%\n",
      "Epoch: 1/3  Step: 700  Loss: 0.8446  Val Loss: 0.8227 Val Accuracy: 140794/206674 = 68.12%\n",
      "Epoch: 1/3  Step: 800  Loss: 0.8235  Val Loss: 0.8120 Val Accuracy: 142736/206674 = 69.06%\n",
      "Epoch: 1/3  Step: 900  Loss: 0.8434  Val Loss: 0.7912 Val Accuracy: 144508/206674 = 69.92%\n",
      "Epoch: 1/3  Step: 1000  Loss: 0.8306  Val Loss: 0.7796 Val Accuracy: 145441/206674 = 70.37%\n",
      "Epoch: 1/3  Step: 1100  Loss: 0.7769  Val Loss: 0.7751 Val Accuracy: 145528/206674 = 70.41%\n",
      "Epoch: 1/3  Step: 1200  Loss: 0.8156  Val Loss: 0.7681 Val Accuracy: 146412/206674 = 70.84%\n",
      "Epoch: 1/3  Step: 1300  Loss: 0.9301  Val Loss: 0.7557 Val Accuracy: 147492/206674 = 71.36%\n",
      "Epoch: 1/3  Step: 1400  Loss: 0.8044  Val Loss: 0.7495 Val Accuracy: 147711/206674 = 71.47%\n",
      "Epoch: 1/3  Step: 1500  Loss: 0.9232  Val Loss: 0.7513 Val Accuracy: 147146/206674 = 71.20%\n",
      "Epoch: 1/3  Step: 1600  Loss: 0.8228  Val Loss: 0.7487 Val Accuracy: 147814/206674 = 71.52%\n",
      "Epoch: 1/3  Step: 1700  Loss: 0.7955  Val Loss: 0.7428 Val Accuracy: 147635/206674 = 71.43%\n",
      "Epoch: 1/3  Step: 1800  Loss: 0.7963  Val Loss: 0.7399 Val Accuracy: 148774/206674 = 71.98%\n",
      "Epoch: 1/3  Step: 1900  Loss: 0.8310  Val Loss: 0.7349 Val Accuracy: 149361/206674 = 72.27%\n",
      "Epoch: 1/3  Step: 2000  Loss: 0.7506  Val Loss: 0.7259 Val Accuracy: 149522/206674 = 72.35%\n",
      "Epoch: 1/3  Step: 2100  Loss: 0.8694  Val Loss: 0.7279 Val Accuracy: 150084/206674 = 72.62%\n",
      "Epoch: 1/3  Step: 2200  Loss: 0.7422  Val Loss: 0.7204 Val Accuracy: 149976/206674 = 72.57%\n",
      "Epoch: 1/3  Step: 2300  Loss: 0.7825  Val Loss: 0.7204 Val Accuracy: 150196/206674 = 72.67%\n",
      "Epoch: 1/3  Step: 2400  Loss: 0.7831  Val Loss: 0.7192 Val Accuracy: 149938/206674 = 72.55%\n",
      "Epoch: 1/3  Step: 2500  Loss: 0.8660  Val Loss: 0.7100 Val Accuracy: 150704/206674 = 72.92%\n",
      "Epoch: 1/3  Step: 2600  Loss: 0.7149  Val Loss: 0.7126 Val Accuracy: 150703/206674 = 72.92%\n",
      "Epoch: 1/3  Step: 2700  Loss: 0.8346  Val Loss: 0.7188 Val Accuracy: 149312/206674 = 72.25%\n",
      "Epoch: 1/3  Step: 2800  Loss: 0.8528  Val Loss: 0.7081 Val Accuracy: 151499/206674 = 73.30%\n",
      "Epoch: 1/3  Step: 2900  Loss: 0.9427  Val Loss: 0.7088 Val Accuracy: 151293/206674 = 73.20%\n",
      "Epoch: 1/3  Step: 3000  Loss: 0.7966  Val Loss: 0.7040 Val Accuracy: 151532/206674 = 73.32%\n",
      "Epoch: 1/3  Step: 3100  Loss: 0.8058  Val Loss: 0.7023 Val Accuracy: 151473/206674 = 73.29%\n",
      "Epoch: 1/3  Step: 3200  Loss: 0.7806  Val Loss: 0.7040 Val Accuracy: 151762/206674 = 73.43%\n",
      "Starting epoch 2\n",
      "Epoch: 2/3  Step: 100  Loss: 0.7485  Val Loss: 0.7039 Val Accuracy: 151447/206674 = 73.28%\n",
      "Epoch: 2/3  Step: 200  Loss: 0.7947  Val Loss: 0.7062 Val Accuracy: 151548/206674 = 73.33%\n",
      "Epoch: 2/3  Step: 300  Loss: 0.6627  Val Loss: 0.7023 Val Accuracy: 151725/206674 = 73.41%\n",
      "Epoch: 2/3  Step: 400  Loss: 0.7829  Val Loss: 0.7033 Val Accuracy: 151723/206674 = 73.41%\n",
      "Epoch: 2/3  Step: 500  Loss: 0.6595  Val Loss: 0.7056 Val Accuracy: 150533/206674 = 72.84%\n",
      "Epoch: 2/3  Step: 600  Loss: 0.7886  Val Loss: 0.7049 Val Accuracy: 151019/206674 = 73.07%\n",
      "Epoch: 2/3  Step: 700  Loss: 0.7062  Val Loss: 0.7013 Val Accuracy: 151233/206674 = 73.17%\n",
      "Epoch: 2/3  Step: 800  Loss: 0.8353  Val Loss: 0.7056 Val Accuracy: 151152/206674 = 73.14%\n",
      "Epoch: 2/3  Step: 900  Loss: 0.8214  Val Loss: 0.7004 Val Accuracy: 151548/206674 = 73.33%\n",
      "Epoch: 2/3  Step: 1000  Loss: 0.6964  Val Loss: 0.7012 Val Accuracy: 151355/206674 = 73.23%\n",
      "Epoch: 2/3  Step: 1100  Loss: 0.7736  Val Loss: 0.7011 Val Accuracy: 152048/206674 = 73.57%\n",
      "Epoch: 2/3  Step: 1200  Loss: 0.8162  Val Loss: 0.6980 Val Accuracy: 151773/206674 = 73.44%\n",
      "Epoch: 2/3  Step: 1300  Loss: 0.7324  Val Loss: 0.6975 Val Accuracy: 151804/206674 = 73.45%\n",
      "Epoch: 2/3  Step: 1400  Loss: 0.7517  Val Loss: 0.7006 Val Accuracy: 151536/206674 = 73.32%\n",
      "Epoch: 2/3  Step: 1500  Loss: 0.8122  Val Loss: 0.6976 Val Accuracy: 152339/206674 = 73.71%\n",
      "Epoch: 2/3  Step: 1600  Loss: 0.8287  Val Loss: 0.6978 Val Accuracy: 151556/206674 = 73.33%\n",
      "Epoch: 2/3  Step: 1700  Loss: 0.7270  Val Loss: 0.6919 Val Accuracy: 152481/206674 = 73.78%\n",
      "Epoch: 2/3  Step: 1800  Loss: 0.7287  Val Loss: 0.6954 Val Accuracy: 152263/206674 = 73.67%\n",
      "Epoch: 2/3  Step: 1900  Loss: 0.6653  Val Loss: 0.6916 Val Accuracy: 152471/206674 = 73.77%\n",
      "Epoch: 2/3  Step: 2000  Loss: 0.6880  Val Loss: 0.6942 Val Accuracy: 152300/206674 = 73.69%\n",
      "Epoch: 2/3  Step: 2100  Loss: 0.7568  Val Loss: 0.6913 Val Accuracy: 152187/206674 = 73.64%\n",
      "Epoch: 2/3  Step: 2200  Loss: 0.7443  Val Loss: 0.6890 Val Accuracy: 152774/206674 = 73.92%\n",
      "Epoch: 2/3  Step: 2300  Loss: 0.8414  Val Loss: 0.6923 Val Accuracy: 152450/206674 = 73.76%\n",
      "Epoch: 2/3  Step: 2400  Loss: 0.7486  Val Loss: 0.6923 Val Accuracy: 152268/206674 = 73.68%\n",
      "Epoch: 2/3  Step: 2500  Loss: 0.6748  Val Loss: 0.6936 Val Accuracy: 152504/206674 = 73.79%\n",
      "Epoch: 2/3  Step: 2600  Loss: 0.7941  Val Loss: 0.6888 Val Accuracy: 152277/206674 = 73.68%\n",
      "Epoch: 2/3  Step: 2700  Loss: 0.6831  Val Loss: 0.6858 Val Accuracy: 152788/206674 = 73.93%\n",
      "Epoch: 2/3  Step: 2800  Loss: 0.8130  Val Loss: 0.6875 Val Accuracy: 152986/206674 = 74.02%\n",
      "Epoch: 2/3  Step: 2900  Loss: 0.7997  Val Loss: 0.6878 Val Accuracy: 152644/206674 = 73.86%\n",
      "Epoch: 2/3  Step: 3000  Loss: 0.8355  Val Loss: 0.6889 Val Accuracy: 152382/206674 = 73.73%\n",
      "Epoch: 2/3  Step: 3100  Loss: 0.8398  Val Loss: 0.6839 Val Accuracy: 152729/206674 = 73.90%\n",
      "Epoch: 2/3  Step: 3200  Loss: 0.8159  Val Loss: 0.6883 Val Accuracy: 152798/206674 = 73.93%\n",
      "Starting epoch 3\n",
      "Epoch: 3/3  Step: 100  Loss: 0.6932  Val Loss: 0.6995 Val Accuracy: 152366/206674 = 73.72%\n",
      "Epoch: 3/3  Step: 200  Loss: 0.6610  Val Loss: 0.7028 Val Accuracy: 151546/206674 = 73.33%\n",
      "Epoch: 3/3  Step: 300  Loss: 0.6655  Val Loss: 0.7041 Val Accuracy: 152269/206674 = 73.68%\n",
      "Epoch: 3/3  Step: 400  Loss: 0.6857  Val Loss: 0.7076 Val Accuracy: 152133/206674 = 73.61%\n",
      "Epoch: 3/3  Step: 500  Loss: 0.6287  Val Loss: 0.7028 Val Accuracy: 152004/206674 = 73.55%\n",
      "Epoch: 3/3  Step: 600  Loss: 0.6347  Val Loss: 0.7068 Val Accuracy: 152009/206674 = 73.55%\n",
      "Epoch: 3/3  Step: 700  Loss: 0.6527  Val Loss: 0.7047 Val Accuracy: 152185/206674 = 73.64%\n",
      "Epoch: 3/3  Step: 800  Loss: 0.6724  Val Loss: 0.7101 Val Accuracy: 151317/206674 = 73.22%\n",
      "Epoch: 3/3  Step: 900  Loss: 0.6560  Val Loss: 0.7002 Val Accuracy: 152638/206674 = 73.85%\n",
      "Epoch: 3/3  Step: 1000  Loss: 0.7171  Val Loss: 0.7083 Val Accuracy: 151956/206674 = 73.52%\n",
      "Epoch: 3/3  Step: 1100  Loss: 0.7423  Val Loss: 0.7057 Val Accuracy: 152127/206674 = 73.61%\n",
      "Epoch: 3/3  Step: 1200  Loss: 0.6601  Val Loss: 0.7070 Val Accuracy: 150699/206674 = 72.92%\n",
      "Epoch: 3/3  Step: 1300  Loss: 0.7321  Val Loss: 0.6995 Val Accuracy: 152123/206674 = 73.61%\n",
      "Epoch: 3/3  Step: 1400  Loss: 0.6549  Val Loss: 0.7039 Val Accuracy: 151601/206674 = 73.35%\n",
      "Epoch: 3/3  Step: 1500  Loss: 0.5733  Val Loss: 0.7049 Val Accuracy: 151646/206674 = 73.37%\n",
      "Epoch: 3/3  Step: 1600  Loss: 0.5978  Val Loss: 0.7045 Val Accuracy: 151699/206674 = 73.40%\n",
      "Epoch: 3/3  Step: 1700  Loss: 0.6484  Val Loss: 0.7030 Val Accuracy: 151588/206674 = 73.35%\n",
      "Epoch: 3/3  Step: 1800  Loss: 0.6863  Val Loss: 0.6982 Val Accuracy: 151848/206674 = 73.47%\n",
      "Epoch: 3/3  Step: 1900  Loss: 0.7477  Val Loss: 0.6975 Val Accuracy: 152287/206674 = 73.68%\n",
      "Epoch: 3/3  Step: 2000  Loss: 0.7608  Val Loss: 0.7049 Val Accuracy: 152343/206674 = 73.71%\n",
      "Epoch: 3/3  Step: 2100  Loss: 0.7006  Val Loss: 0.7009 Val Accuracy: 152474/206674 = 73.78%\n",
      "Epoch: 3/3  Step: 2200  Loss: 0.6852  Val Loss: 0.6950 Val Accuracy: 152100/206674 = 73.59%\n",
      "Epoch: 3/3  Step: 2300  Loss: 0.6912  Val Loss: 0.6941 Val Accuracy: 152010/206674 = 73.55%\n",
      "Epoch: 3/3  Step: 2400  Loss: 0.6742  Val Loss: 0.7009 Val Accuracy: 152080/206674 = 73.58%\n",
      "Epoch: 3/3  Step: 2500  Loss: 0.6828  Val Loss: 0.6963 Val Accuracy: 152339/206674 = 73.71%\n"
     ]
    },
    {
     "name": "stdout",
     "output_type": "stream",
     "text": [
      "Epoch: 3/3  Step: 2600  Loss: 0.6629  Val Loss: 0.6956 Val Accuracy: 151962/206674 = 73.53%\n",
      "Epoch: 3/3  Step: 2700  Loss: 0.7172  Val Loss: 0.6984 Val Accuracy: 151967/206674 = 73.53%\n",
      "Epoch: 3/3  Step: 2800  Loss: 0.5894  Val Loss: 0.6968 Val Accuracy: 152214/206674 = 73.65%\n",
      "Epoch: 3/3  Step: 2900  Loss: 0.7673  Val Loss: 0.6968 Val Accuracy: 151867/206674 = 73.48%\n",
      "Epoch: 3/3  Step: 3000  Loss: 0.7032  Val Loss: 0.6940 Val Accuracy: 152189/206674 = 73.64%\n",
      "Epoch: 3/3  Step: 3100  Loss: 0.7810  Val Loss: 0.6943 Val Accuracy: 152216/206674 = 73.65%\n",
      "Epoch: 3/3  Step: 3200  Loss: 0.6751  Val Loss: 0.6969 Val Accuracy: 152298/206674 = 73.69%\n"
     ]
    }
   ],
   "source": [
    "\"\"\"\n",
    "Train your model with dropout. Make sure to clip your gradients.\n",
    "Print the training loss, validation loss, and validation accuracy for every 100 steps.\n",
    "\"\"\"\n",
    "import numpy as np\n",
    "\n",
    "epochs = 3\n",
    "steps = 0\n",
    "batch_size = 256\n",
    "learning_rate = 0.001\n",
    "clip=5 # gradient clipping\n",
    "\n",
    "print_every = 100\n",
    "criterion = nn.NLLLoss()\n",
    "optimizer = optim.Adam(model.parameters(), lr=learning_rate)\n",
    "model.train()\n",
    "for epoch in range(epochs):\n",
    "    print('Starting epoch {}'.format(epoch + 1))\n",
    "    steps = 0\n",
    "    for text_batch, labels in dataloader(train_features, train_labels, batch_size=batch_size, sequence_length=20, shuffle=True):\n",
    "        steps += 1\n",
    "        model.zero_grad()\n",
    "        \n",
    "        # reinitialize to get rid of the last batch problem.\n",
    "        hidden = model.init_hidden(batch_size=labels.shape[0])\n",
    "        # Set Device\n",
    "        text_batch, labels = text_batch.to(device), labels.to(device)\n",
    "        for each in hidden:\n",
    "            each.to(device)\n",
    "        output, hidden = model(text_batch, hidden)\n",
    "        loss = criterion(output, labels)\n",
    "        loss.backward(retain_graph=True)\n",
    "        nn.utils.clip_grad_norm_(model.parameters(), clip)\n",
    "        optimizer.step()\n",
    "        accuracy = 0\n",
    "        if steps % print_every == 0:\n",
    "            # reinitialize to get rid of the last batch problem.\n",
    "            val_h = model.init_hidden(batch_size=labels.shape[0])\n",
    "            val_losses = []\n",
    "            model.eval()\n",
    "            for text_batch, labels in dataloader(valid_features, valid_labels, batch_size=batch_size, sequence_length=20, shuffle=True):\n",
    "                val_h = model.init_hidden(batch_size=labels.shape[0])\n",
    "                text_batch, labels = text_batch.to(device), labels.to(device)\n",
    "                for each in val_h:\n",
    "                    each.to(device)\n",
    "                output, val_h = model(text_batch, val_h)\n",
    "                val_loss = criterion(output, labels)\n",
    "                val_losses.append(val_loss.item())\n",
    "                topval, topclass = torch.exp(output).topk(1)\n",
    "                accuracy += torch.sum(topclass.squeeze() == labels)\n",
    "            model.train()\n",
    "            print(\"Epoch: {}/{} \".format(epoch+1, epochs),\n",
    "                \"Step: {} \".format(steps),\n",
    "                \"Loss: {:.4f} \".format(loss.item()),\n",
    "                \"Val Loss: {:.4f}\".format(np.mean(val_losses)),\n",
    "                \"Val Accuracy: {}/{} = {:.2f}%\".format(accuracy, len(valid_labels), 100*accuracy/len(valid_labels)))"
   ]
  },
  {
   "cell_type": "markdown",
   "metadata": {},
   "source": [
    "## Making Predictions\n",
    "### Prediction \n",
    "Okay, now that you have a trained model, try it on some new twits and see if it works appropriately. Remember that for any new text, you'll need to preprocess it first before passing it to the network. Implement the `predict` function to generate the prediction vector from a message."
   ]
  },
  {
   "cell_type": "code",
   "execution_count": 48,
   "metadata": {},
   "outputs": [],
   "source": [
    "def predict(text, model, vocab):\n",
    "    \"\"\" \n",
    "    Make a prediction on a single sentence.\n",
    "\n",
    "    Parameters\n",
    "    ----------\n",
    "        text : The string to make a prediction on.\n",
    "        model : The model to use for making the prediction.\n",
    "        vocab : Dictionary for word to word ids. The key is the word and the value is the word id.\n",
    "\n",
    "    Returns\n",
    "    -------\n",
    "        pred : Prediction vector\n",
    "    \"\"\"    \n",
    "    \n",
    "    # TODO Implement\n",
    "    \n",
    "    tokens = preprocess(text)\n",
    "    \n",
    "    # Filter non-vocab words\n",
    "    tokens = [token for token in tokens if token in vocab]   \n",
    "    # Convert words to ids\n",
    "    tokens = [vocab[token] for token in tokens]\n",
    "        \n",
    "    # Adding a batch dimension\n",
    "    text_input = torch.from_numpy(np.asarray(tokens)).view(-1,1) \n",
    "    \n",
    "    # Get the NN output\n",
    "    hidden = model.init_hidden(1)    \n",
    "    logps, _ = model.forward(text_input, hidden)  \n",
    "    \n",
    "    # Take the exponent of the NN output to get a range of 0 to 1 for each label.\n",
    "    pred = np.exp(logps.cpu().detach().numpy())   \n",
    "    \n",
    "    return pred"
   ]
  },
  {
   "cell_type": "code",
   "execution_count": 50,
   "metadata": {},
   "outputs": [
    {
     "data": {
      "text/plain": [
       "array([[3.7209020e-04, 9.1556488e-03, 4.3782298e-03, 9.0366668e-01,\n",
       "        8.2427375e-02]], dtype=float32)"
      ]
     },
     "execution_count": 50,
     "metadata": {},
     "output_type": "execute_result"
    }
   ],
   "source": [
    "text = \"Google is working on self driving cars, I'm bullish on $goog\"\n",
    "model.eval()\n",
    "model.to(\"cpu\")\n",
    "predict(text, model, vocab)"
   ]
  },
  {
   "cell_type": "markdown",
   "metadata": {},
   "source": [
    "### Questions: What is the prediction of the model? What is the uncertainty of the prediction?\n",
    "** TODO: The predictons of the model are all low and choosing the highest one is not practical. One way to deal with this is set a threshold value, so if any prediction is above that thresold. Another way is to convert this to a continous value using the expected value of the score to get a single answer since using 5 differernt array values is causing uncertainty"
   ]
  },
  {
   "cell_type": "markdown",
   "metadata": {},
   "source": [
    "Now we have a trained model and we can make predictions. We can use this model to track the sentiments of various stocks by predicting the sentiments of twits as they are coming in. Now we have a stream of twits. For each of those twits, pull out the stocks mentioned in them and keep track of the sentiments. Remember that in the twits, ticker symbols are encoded with a dollar sign as the first character, all caps, and 2-4 letters, like $AAPL. Ideally, you'd want to track the sentiments of the stocks in your universe and use this as a signal in your larger model(s).\n",
    "\n",
    "## Testing\n",
    "### Load the Data "
   ]
  },
  {
   "cell_type": "code",
   "execution_count": 51,
   "metadata": {},
   "outputs": [],
   "source": [
    "with open(os.path.join('..', '..', 'data', 'project_6_stocktwits', 'test_twits.json'), 'r') as f:\n",
    "    test_data = json.load(f)"
   ]
  },
  {
   "cell_type": "markdown",
   "metadata": {},
   "source": [
    "### Twit Stream"
   ]
  },
  {
   "cell_type": "code",
   "execution_count": 52,
   "metadata": {},
   "outputs": [
    {
     "data": {
      "text/plain": [
       "{'message_body': '$JWN has moved -1.69% on 10-31. Check out the movement and peers at  https://dividendbot.com?s=JWN',\n",
       " 'timestamp': '2018-11-01T00:00:05Z'}"
      ]
     },
     "execution_count": 52,
     "metadata": {},
     "output_type": "execute_result"
    }
   ],
   "source": [
    "def twit_stream():\n",
    "    for twit in test_data['data']:\n",
    "        yield twit\n",
    "\n",
    "next(twit_stream())"
   ]
  },
  {
   "cell_type": "markdown",
   "metadata": {},
   "source": [
    "Using the `prediction` function, let's apply it to a stream of twits."
   ]
  },
  {
   "cell_type": "code",
   "execution_count": 53,
   "metadata": {},
   "outputs": [],
   "source": [
    "def score_twits(stream, model, vocab, universe):\n",
    "    \"\"\" \n",
    "    Given a stream of twits and a universe of tickers, return sentiment scores for tickers in the universe.\n",
    "    \"\"\"\n",
    "    for twit in stream:\n",
    "\n",
    "        # Get the message text\n",
    "        text = twit['message_body']\n",
    "        symbols = re.findall('\\$[A-Z]{2,4}', text)\n",
    "        score = predict(text, model, vocab)\n",
    "\n",
    "        for symbol in symbols:\n",
    "            if symbol in universe:\n",
    "                yield {'symbol': symbol, 'score': score, 'timestamp': twit['timestamp']}"
   ]
  },
  {
   "cell_type": "code",
   "execution_count": 54,
   "metadata": {},
   "outputs": [
    {
     "data": {
      "text/plain": [
       "{'symbol': '$AAPL',\n",
       " 'score': array([[0.20922405, 0.06669855, 0.13384648, 0.15030907, 0.43992186]],\n",
       "       dtype=float32),\n",
       " 'timestamp': '2018-11-01T00:00:18Z'}"
      ]
     },
     "execution_count": 54,
     "metadata": {},
     "output_type": "execute_result"
    }
   ],
   "source": [
    "universe = {'$BBRY', '$AAPL', '$AMZN', '$BABA', '$YHOO', '$LQMT', '$FB', '$GOOG', '$BBBY', '$JNUG', '$SBUX', '$MU'}\n",
    "score_stream = score_twits(twit_stream(), model, vocab, universe)\n",
    "\n",
    "next(score_stream)"
   ]
  },
  {
   "cell_type": "markdown",
   "metadata": {},
   "source": [
    "That's it. You have successfully built a model for sentiment analysis! "
   ]
  },
  {
   "cell_type": "markdown",
   "metadata": {},
   "source": [
    "## Submission\n",
    "Now that you're done with the project, it's time to submit it. Click the submit button in the bottom right. One of our reviewers will give you feedback on your project with a pass or not passed grade. You can continue to the next section while you wait for feedback."
   ]
  }
 ],
 "metadata": {
  "kernelspec": {
   "display_name": "Python 3 (ipykernel)",
   "language": "python",
   "name": "python3"
  },
  "language_info": {
   "codemirror_mode": {
    "name": "ipython",
    "version": 3
   },
   "file_extension": ".py",
   "mimetype": "text/x-python",
   "name": "python",
   "nbconvert_exporter": "python",
   "pygments_lexer": "ipython3",
   "version": "3.10.11"
  }
 },
 "nbformat": 4,
 "nbformat_minor": 2
}
